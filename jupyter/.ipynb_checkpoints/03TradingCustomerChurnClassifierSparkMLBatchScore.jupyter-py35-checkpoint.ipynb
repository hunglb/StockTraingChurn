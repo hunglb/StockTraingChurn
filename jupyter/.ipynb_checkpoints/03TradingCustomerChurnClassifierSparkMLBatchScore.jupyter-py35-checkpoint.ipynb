{
 "cells": [
  {
   "cell_type": "code",
   "execution_count": null,
   "metadata": {
    "collapsed": true,
    "deletable": true,
    "editable": true
   },
   "outputs": [],
   "source": [
    "#!/usr/bin/python\n",
    "import sys, os\n",
    "from pyspark.sql import SparkSession\n",
    "from pyspark.ml import Pipeline, Model, PipelineModel\n",
    "from pyspark.sql import SQLContext\n",
    "import pandas\n",
    "import dsx_core_utils, re, jaydebeapi\n",
    "from sqlalchemy import *\n",
    "from sqlalchemy.types import String, Boolean\n",
    "# define variables\n",
    "args = {'output_datasource_type': '', 'target': '/datasets/Scoreoutput.csv', 'sysparm': '', 'output_type': 'Localfile', 'source': '/datasets/TradingCustomerSparkMLBatchScore.csv', 'execution_type': 'DSX'}\n",
    "input_data = os.getenv(\"DSX_PROJECT_DIR\") + args.get(\"source\")\n",
    "output_data = os.getenv(\"DSX_PROJECT_DIR\") + args.get(\"target\")\n",
    "model_path = os.getenv(\"DSX_PROJECT_DIR\") + \"/models/Trading Churn Risk Classification SparkML/1/model\"\n",
    "# create spark context\n",
    "spark = SparkSession.builder.getOrCreate()\n",
    "sc = spark.sparkContext\n",
    "# read test dataframe (inputJson = \"input.json\") \n",
    "testDF = SQLContext(sc).read.csv(input_data, header='true', inferSchema='true')\n",
    "# load model\n",
    "model_rf = PipelineModel.load(model_path)\n",
    "# prediction\n",
    "outputDF = model_rf.transform(testDF) \n",
    "# save scoring result to given target\n",
    "scoring_df = outputDF.toPandas()\n",
    "# save output to csv\n",
    "scoring_df.to_csv(output_data)"
   ]
  }
 ],
 "metadata": {
  "anaconda-cloud": {},
  "kernelspec": {
   "display_name": "Python3.5 with DSX Spark 2.2.1",
   "language": "python",
   "name": "python3"
  },
  "language_info": {
   "codemirror_mode": {
    "name": "ipython",
    "version": 3
   },
   "file_extension": ".py",
   "mimetype": "text/x-python",
   "name": "python",
   "nbconvert_exporter": "python",
   "pygments_lexer": "ipython3",
   "version": "3.5.2"
  }
 },
 "nbformat": 4,
 "nbformat_minor": 0
}
